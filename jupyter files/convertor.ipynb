{
 "cells": [
  {
   "cell_type": "code",
   "execution_count": 1,
   "id": "d15a0340-f670-4c0a-a581-9f2223d0cbeb",
   "metadata": {},
   "outputs": [],
   "source": [
    "import csv\n",
    "import glob\n",
    "import pandas as pd\n",
    "import os"
   ]
  },
  {
   "cell_type": "markdown",
   "id": "a91da1ac-478e-4f45-9863-968ddcd44692",
   "metadata": {},
   "source": [
    "# Uber Pickups Conversion (csv -> pkl aka dataframe)"
   ]
  },
  {
   "cell_type": "code",
   "execution_count": 2,
   "id": "26d50da8-6380-4a9c-be26-2db7adcfa63f",
   "metadata": {},
   "outputs": [],
   "source": [
    "def uber_conv():\n",
    "    directory = \"archive\"\n",
    "    for filename in os.listdir(directory):\n",
    "        f = os.path.join(directory, filename)\n",
    "        if os.path.isfile(f) and filename.endswith(\".csv\") and not os.path.isfile(f\"pkl/{filename}.pkl\"):\n",
    "            print(f\"Reading {f}\")\n",
    "            try:\n",
    "                df = pd.read_csv(f, encoding=\"latin1\")\n",
    "                pkl_file = f\"pkl/{filename}.pkl\"\n",
    "                print(f\"Converting {f} to {pkl_file}\")\n",
    "                df.to_pickle(pkl_file)\n",
    "                # print(df)\n",
    "            except Exception as e:\n",
    "                print(f\"Error reading {f}: {e}\")\n",
    "        else:\n",
    "            print(f\"{f} exists\")"
   ]
  },
  {
   "cell_type": "markdown",
   "id": "ecd58761-189d-4701-ac39-0d0dc2ba1e2d",
   "metadata": {},
   "source": [
    "# T-Drive Conversion (txt -> csv -> pkl)"
   ]
  },
  {
   "cell_type": "code",
   "execution_count": 3,
   "id": "a2098c5f-d5de-4055-b704-a5f8c5b05e98",
   "metadata": {},
   "outputs": [],
   "source": [
    "def tdrive_conv():\n",
    "    directory = \"release/taxi_log_2008_by_id\"\n",
    "    column_names = [\"taxi id\", \"date time\", \"longitude\", \"latitude\"]\n",
    "    if not os.path.isfile(\"release/taxi_log_2008_by_id.csv\"):\n",
    "        with open(\"release/taxi_log_2008_by_id.csv\", \"w\", newline=\"\") as target:\n",
    "            writer = csv.DictWriter(target, fieldnames=column_names)\n",
    "            writer.writeheader()\n",
    "            for path in glob.glob(f\"{directory}/*.txt\"):\n",
    "                with open(path, newline=\"\") as source:\n",
    "                    reader = csv.DictReader(source, delimiter=\",\", fieldnames=column_names)\n",
    "                    writer.writerows(reader)\n",
    "    else:\n",
    "        print(\"release/taxi_log_2008_by_id.csv exists\")\n",
    "\n",
    "    if not os.path.isfile(\"release/taxi_log_2008_by_id.pkl\"):\n",
    "        df = pd.read_csv(\"release/taxi_log_2008_by_id.csv\", encoding=\"latin1\")\n",
    "        pkl_file = \"taxi_log_2008_by_id.pkl\"\n",
    "        print(f\"Converting to {pkl_file}\")\n",
    "        df.to_pickle(\"release/\" + pkl_file)\n",
    "    else:\n",
    "        print(\"release/taxi_log_2008_by_id.pkl exists\")"
   ]
  },
  {
   "cell_type": "markdown",
   "id": "7f592f05-e27e-4d94-9e61-13682b8dbdc6",
   "metadata": {},
   "source": [
    "# Uber Combine"
   ]
  },
  {
   "cell_type": "code",
   "execution_count": 4,
   "id": "81eedcbe-7aae-4daa-9ebd-64aab962138e",
   "metadata": {},
   "outputs": [],
   "source": [
    "def uber_combine():\n",
    "    if os.path.isfile(\"archive/uber-raw-data-combined.csv\"):\n",
    "        print(\"archive/uber-raw-data-combined.csv exists\")\n",
    "        return\n",
    "    months = [\"apr\", \"may\", \"jun\", \"jul\", \"aug\", \"sep\"]\n",
    "    \n",
    "    output = \"archive/uber-raw-data-combined.csv\"\n",
    "    \n",
    "    first = True\n",
    "    \n",
    "    for file in months:\n",
    "        file = f\"archive/uber-raw-data-{file}14.csv\"\n",
    "        print(f\"combining {file}\")\n",
    "        for chunk in pd.read_csv(file, chunksize=10000):\n",
    "            if first:\n",
    "                chunk.to_csv(output, index=False, mode=\"w\", header=True)\n",
    "                first = False\n",
    "            else:\n",
    "                chunk.to_csv(output, index=False, mode=\"a\", header=False)\n",
    "    print(\"CSV files have been combined\")"
   ]
  },
  {
   "cell_type": "code",
   "execution_count": 5,
   "id": "633edd23-9674-4520-842d-962ad5d17bd9",
   "metadata": {},
   "outputs": [
    {
     "name": "stdout",
     "output_type": "stream",
     "text": [
      "Converting T-drive dataset: txt -> csv -> pkl\n",
      "release/taxi_log_2008_by_id.csv exists\n",
      "release/taxi_log_2008_by_id.pkl exists\n",
      "Combining all uber-raw-data csvs together\n",
      "archive/uber-raw-data-combined.csv exists\n",
      "Converting Uber dataset: csv -> pkl\n",
      "archive\\other-American_B01362.csv exists\n",
      "archive\\other-Carmel_B00256.csv exists\n",
      "archive\\other-Dial7_B00887.csv exists\n",
      "archive\\other-Diplo_B01196.csv exists\n",
      "archive\\other-Federal_02216.csv exists\n",
      "archive\\other-FHV-services_jan-aug-2015.csv exists\n",
      "archive\\other-Firstclass_B01536.csv exists\n",
      "archive\\other-Highclass_B01717.csv exists\n",
      "archive\\other-Lyft_B02510.csv exists\n",
      "archive\\other-Prestige_B01338.csv exists\n",
      "archive\\other-Skyline_B00111.csv exists\n",
      "archive\\Uber-Jan-Feb-FOIL.csv exists\n",
      "archive\\uber-raw-data-apr14.csv exists\n",
      "archive\\uber-raw-data-aug14.csv exists\n",
      "archive\\uber-raw-data-combined.csv exists\n",
      "archive\\uber-raw-data-janjune-15.csv exists\n",
      "archive\\uber-raw-data-jul14.csv exists\n",
      "archive\\uber-raw-data-jun14.csv exists\n",
      "archive\\uber-raw-data-may14.csv exists\n",
      "archive\\uber-raw-data-sep14.csv exists\n"
     ]
    }
   ],
   "source": [
    "print(\"Converting T-drive dataset: txt -> csv -> pkl\")\n",
    "tdrive_conv()\n",
    "\n",
    "print(\"Combining all uber-raw-data csvs together\")\n",
    "uber_combine()\n",
    "\n",
    "print(\"Converting Uber dataset: csv -> pkl\")\n",
    "uber_conv()"
   ]
  },
  {
   "cell_type": "code",
   "execution_count": null,
   "id": "2b815156-2a82-45b1-b002-a88678602cfd",
   "metadata": {},
   "outputs": [],
   "source": [
    "\n"
   ]
  }
 ],
 "metadata": {
  "kernelspec": {
   "display_name": "Python 3 (ipykernel)",
   "language": "python",
   "name": "python3"
  },
  "language_info": {
   "codemirror_mode": {
    "name": "ipython",
    "version": 3
   },
   "file_extension": ".py",
   "mimetype": "text/x-python",
   "name": "python",
   "nbconvert_exporter": "python",
   "pygments_lexer": "ipython3",
   "version": "3.9.19"
  }
 },
 "nbformat": 4,
 "nbformat_minor": 5
}
