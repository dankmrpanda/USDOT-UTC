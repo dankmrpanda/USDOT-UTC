{
 "cells": [
  {
   "cell_type": "code",
   "execution_count": 1,
   "id": "d15a0340-f670-4c0a-a581-9f2223d0cbeb",
   "metadata": {},
   "outputs": [],
   "source": [
    "import csv\n",
    "import glob\n",
    "import pandas as pd\n",
    "import os"
   ]
  },
  {
   "cell_type": "markdown",
   "id": "a91da1ac-478e-4f45-9863-968ddcd44692",
   "metadata": {},
   "source": [
    "# Uber Pickups Conversion (csv -> pkl aka dataframe)"
   ]
  },
  {
   "cell_type": "code",
   "execution_count": 2,
   "id": "26d50da8-6380-4a9c-be26-2db7adcfa63f",
   "metadata": {},
   "outputs": [],
   "source": [
    "def uber_conv():\n",
    "    directory = \"archive\"\n",
    "    for filename in os.listdir(directory):\n",
    "        f = os.path.join(directory, filename)\n",
    "        if os.path.isfile(f) and filename.endswith('.csv'):\n",
    "            print(f\"Reading {f}\")\n",
    "            try:\n",
    "                df = pd.read_csv(f, encoding='latin1')\n",
    "                pkl_file = f\"{os.path.splitext(f)[0]}.pkl\"\n",
    "                print(f\"Converting {f} to {pkl_file}\")\n",
    "                df.to_pickle(pkl_file)\n",
    "                # print(df)\n",
    "            except Exception as e:\n",
    "                print(f\"Error reading {f}: {e}\")"
   ]
  },
  {
   "cell_type": "markdown",
   "id": "ecd58761-189d-4701-ac39-0d0dc2ba1e2d",
   "metadata": {},
   "source": [
    "# T-Drive Conversion (txt -> csv -> pkl)"
   ]
  },
  {
   "cell_type": "code",
   "execution_count": 3,
   "id": "a2098c5f-d5de-4055-b704-a5f8c5b05e98",
   "metadata": {},
   "outputs": [],
   "source": [
    "def tdrive_conv():\n",
    "    directory = \"release/taxi_log_2008_by_id\"\n",
    "    column_names = [\"taxi id\", \"date time\", \"longitude\", \"latitude\"]\n",
    "    \n",
    "    with open(\"release/taxi_log_2008_by_id.csv\", 'w', newline='') as target:\n",
    "        writer = csv.DictWriter(target, fieldnames=column_names)\n",
    "        writer.writeheader()\n",
    "        for path in glob.glob(f\"{directory}/*.txt\"):\n",
    "            with open(path, newline='') as source:\n",
    "                reader = csv.DictReader(source, delimiter=',', fieldnames=column_names)\n",
    "                writer.writerows(reader)\n",
    "\n",
    "    df = pd.read_csv(\"release/taxi_log_2008_by_id.csv\", encoding=\"latin1\")\n",
    "    pkl_file = \"taxi_log_2008_by_id.pkl\"\n",
    "    print(f\"Converting to {pkl_file}\")\n",
    "    df.to_pickle(\"release/\" + pkl_file)"
   ]
  },
  {
   "cell_type": "code",
   "execution_count": 4,
   "id": "633edd23-9674-4520-842d-962ad5d17bd9",
   "metadata": {},
   "outputs": [],
   "source": [
    "# print(\"Converting Uber dataset: csv -> pkl\")\n",
    "# uber_conv()\n",
    "\n",
    "# print(\"Converting T-drive dataset: txt -> csv -> pkl\")\n",
    "# tdrive_conv()"
   ]
  },
  {
   "cell_type": "code",
   "execution_count": 5,
   "id": "cd36d346-e5c8-48d0-891e-17ecd74b3a1f",
   "metadata": {},
   "outputs": [
    {
     "data": {
      "text/plain": [
       "(91712, 6)"
      ]
     },
     "execution_count": 5,
     "metadata": {},
     "output_type": "execute_result"
    }
   ],
   "source": [
    "df = pd.read_pickle(\"archive/other-American_B01362.pkl\")\n",
    "df.shape"
   ]
  },
  {
   "cell_type": "code",
   "execution_count": 6,
   "id": "29162b7d-de6f-4ed3-b202-775985152489",
   "metadata": {},
   "outputs": [
    {
     "data": {
      "text/plain": [
       "(17662984, 4)"
      ]
     },
     "execution_count": 6,
     "metadata": {},
     "output_type": "execute_result"
    }
   ],
   "source": [
    "df = pd.read_pickle(\"release/taxi_log_2008_by_id.pkl\")\n",
    "df.shape"
   ]
  },
  {
   "cell_type": "code",
   "execution_count": 7,
   "id": "9a228362-7a70-412a-a2a5-78a3f87c96a1",
   "metadata": {},
   "outputs": [
    {
     "name": "stdout",
     "output_type": "stream",
     "text": [
      "File: other-American_B01362.pkl\n",
      "Columns: ['DATE', 'TIME', 'PICK UP ADDRESS', 'Unnamed: 3', 'Unnamed: 4', 'Unnamed: 5']\n",
      "\n",
      "File: other-Carmel_B00256.pkl\n",
      "Columns: ['Date', 'Time', 'PU_Adress', 'Base_No']\n",
      "\n",
      "File: other-Dial7_B00887.pkl\n",
      "Columns: ['Date', 'Time', 'State', 'PuFrom', 'Address', 'Street']\n",
      "\n",
      "File: other-Diplo_B01196.pkl\n",
      "Columns: ['Date', 'Time', 'PU_Address']\n",
      "\n",
      "File: other-Federal_02216.pkl\n",
      "Columns: ['Date', 'Time', 'PU_Address', 'DO_Address', 'Routing Details', 'PU_Address.1', 'Status']\n",
      "\n",
      "File: other-FHV-services_jan-aug-2015.pkl\n",
      "Columns: ['Base Number', 'Base Name', 'Pick Up Date', 'Number of Trips', 'Number of Vehicles']\n",
      "\n",
      "File: other-Firstclass_B01536.pkl\n",
      "Columns: ['DATE', 'TIME', 'PICK UP ADDRESS']\n",
      "\n",
      "File: other-Highclass_B01717.pkl\n",
      "Columns: ['DATE', 'TIME', 'PU_Address']\n",
      "\n",
      "File: other-Lyft_B02510.pkl\n",
      "Columns: ['time_of_trip', 'start_lat', 'start_lng', 'Unnamed: 3']\n",
      "\n",
      "File: other-Prestige_B01338.pkl\n",
      "Columns: ['DATE', 'TIME', 'PICK UP ADDRESS']\n",
      "\n",
      "File: other-Skyline_B00111.pkl\n",
      "Columns: ['Date', 'Time', '    Street_Address ', '    City_State ', 'Unnamed: 4', 'Unnamed: 5']\n",
      "\n",
      "File: Uber-Jan-Feb-FOIL.pkl\n",
      "Columns: ['dispatching_base_number', 'date', 'active_vehicles', 'trips']\n",
      "\n",
      "File: uber-raw-data-apr14.pkl\n",
      "Columns: ['Date/Time', 'Lat', 'Lon', 'Base']\n",
      "\n",
      "File: uber-raw-data-aug14.pkl\n",
      "Columns: ['Date/Time', 'Lat', 'Lon', 'Base']\n",
      "\n",
      "File: uber-raw-data-janjune-15.pkl\n",
      "Columns: ['Dispatching_base_num', 'Pickup_date', 'Affiliated_base_num', 'locationID']\n",
      "\n",
      "File: uber-raw-data-jul14.pkl\n",
      "Columns: ['Date/Time', 'Lat', 'Lon', 'Base']\n",
      "\n",
      "File: uber-raw-data-jun14.pkl\n",
      "Columns: ['Date/Time', 'Lat', 'Lon', 'Base']\n",
      "\n",
      "File: uber-raw-data-may14.pkl\n",
      "Columns: ['Date/Time', 'Lat', 'Lon', 'Base']\n",
      "\n",
      "File: uber-raw-data-sep14.pkl\n",
      "Columns: ['Date/Time', 'Lat', 'Lon', 'Base']\n",
      "\n"
     ]
    }
   ],
   "source": [
    "import os\n",
    "import pandas as pd\n",
    "\n",
    "directory = 'archive'\n",
    "\n",
    "for filename in os.listdir(directory):\n",
    "    if filename.endswith('.pkl'):\n",
    "        file_path = os.path.join(directory, filename)\n",
    "\n",
    "        df = pd.read_pickle(file_path)\n",
    "        \n",
    "        print(f\"File: {filename}\")\n",
    "        print(f\"Columns: {df.columns.tolist()}\\n\")\n"
   ]
  },
  {
   "cell_type": "code",
   "execution_count": null,
   "id": "37f208e6-433a-4bb1-ad7c-37875b8d746d",
   "metadata": {},
   "outputs": [],
   "source": []
  }
 ],
 "metadata": {
  "kernelspec": {
   "display_name": "Python 3 (ipykernel)",
   "language": "python",
   "name": "python3"
  },
  "language_info": {
   "codemirror_mode": {
    "name": "ipython",
    "version": 3
   },
   "file_extension": ".py",
   "mimetype": "text/x-python",
   "name": "python",
   "nbconvert_exporter": "python",
   "pygments_lexer": "ipython3",
   "version": "3.9.19"
  }
 },
 "nbformat": 4,
 "nbformat_minor": 5
}
