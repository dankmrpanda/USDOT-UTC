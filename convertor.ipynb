{
 "cells": [
  {
   "cell_type": "code",
   "execution_count": 1,
   "id": "d15a0340-f670-4c0a-a581-9f2223d0cbeb",
   "metadata": {},
   "outputs": [],
   "source": [
    "import csv\n",
    "import glob\n",
    "import pandas as pd\n",
    "import os"
   ]
  },
  {
   "cell_type": "markdown",
   "id": "a91da1ac-478e-4f45-9863-968ddcd44692",
   "metadata": {},
   "source": [
    "# Uber Pickups Conversion (csv -> pkl aka dataframe)"
   ]
  },
  {
   "cell_type": "code",
   "execution_count": 2,
   "id": "26d50da8-6380-4a9c-be26-2db7adcfa63f",
   "metadata": {},
   "outputs": [],
   "source": [
    "def uber_conv():\n",
    "    directory = \"archive\"\n",
    "    for filename in os.listdir(directory):\n",
    "        f = os.path.join(directory, filename)\n",
    "        if os.path.isfile(f) and filename.endswith('.csv'):\n",
    "            print(f\"Reading {f}\")\n",
    "            try:\n",
    "                df = pd.read_csv(f, encoding='latin1')\n",
    "                pkl_file = f\"{os.path.splitext(f)[0]}.pkl\"\n",
    "                print(f\"Converting {f} to {pkl_file}\")\n",
    "                df.to_pickle(pkl_file)\n",
    "                # print(df)\n",
    "            except Exception as e:\n",
    "                print(f\"Error reading {f}: {e}\")"
   ]
  },
  {
   "cell_type": "markdown",
   "id": "ecd58761-189d-4701-ac39-0d0dc2ba1e2d",
   "metadata": {},
   "source": [
    "# T-Drive Conversion (txt -> csv -> pkl)"
   ]
  },
  {
   "cell_type": "code",
   "execution_count": 3,
   "id": "a2098c5f-d5de-4055-b704-a5f8c5b05e98",
   "metadata": {},
   "outputs": [],
   "source": [
    "def tdrive_conv():\n",
    "    directory = \"release/taxi_log_2008_by_id\"\n",
    "    column_names = [\"taxi id\", \"date time\", \"longitude\", \"latitude\"]\n",
    "    \n",
    "    with open(\"release/taxi_log_2008_by_id.csv\", 'w', newline='') as target:\n",
    "        writer = csv.DictWriter(target, fieldnames=column_names)\n",
    "        writer.writeheader()\n",
    "        for path in glob.glob(f\"{directory}/*.txt\"):\n",
    "            with open(path, newline='') as source:\n",
    "                reader = csv.DictReader(source, delimiter=',', fieldnames=column_names)\n",
    "                writer.writerows(reader)\n",
    "\n",
    "    df = pd.read_csv(\"release/taxi_log_2008_by_id.csv\", encoding=\"latin1\")\n",
    "    pkl_file = \"taxi_log_2008_by_id.pkl\"\n",
    "    print(f\"Converting to {pkl_file}\")\n",
    "    df.to_pickle(\"release/\" + pkl_file)"
   ]
  },
  {
   "cell_type": "code",
   "execution_count": 4,
   "id": "633edd23-9674-4520-842d-962ad5d17bd9",
   "metadata": {},
   "outputs": [
    {
     "name": "stdout",
     "output_type": "stream",
     "text": [
      "Converting Uber dataset: csv -> pkl\n",
      "Reading archive\\other-American_B01362.csv\n",
      "Converting archive\\other-American_B01362.csv to archive\\other-American_B01362.pkl\n",
      "Reading archive\\other-Carmel_B00256.csv\n",
      "Converting archive\\other-Carmel_B00256.csv to archive\\other-Carmel_B00256.pkl\n",
      "Reading archive\\other-Dial7_B00887.csv\n",
      "Converting archive\\other-Dial7_B00887.csv to archive\\other-Dial7_B00887.pkl\n",
      "Reading archive\\other-Diplo_B01196.csv\n",
      "Converting archive\\other-Diplo_B01196.csv to archive\\other-Diplo_B01196.pkl\n",
      "Reading archive\\other-Federal_02216.csv\n",
      "Converting archive\\other-Federal_02216.csv to archive\\other-Federal_02216.pkl\n",
      "Reading archive\\other-FHV-services_jan-aug-2015.csv\n",
      "Converting archive\\other-FHV-services_jan-aug-2015.csv to archive\\other-FHV-services_jan-aug-2015.pkl\n",
      "Reading archive\\other-Firstclass_B01536.csv\n",
      "Converting archive\\other-Firstclass_B01536.csv to archive\\other-Firstclass_B01536.pkl\n",
      "Reading archive\\other-Highclass_B01717.csv\n",
      "Converting archive\\other-Highclass_B01717.csv to archive\\other-Highclass_B01717.pkl\n",
      "Reading archive\\other-Lyft_B02510.csv\n",
      "Converting archive\\other-Lyft_B02510.csv to archive\\other-Lyft_B02510.pkl\n",
      "Reading archive\\other-Prestige_B01338.csv\n",
      "Converting archive\\other-Prestige_B01338.csv to archive\\other-Prestige_B01338.pkl\n",
      "Reading archive\\other-Skyline_B00111.csv\n",
      "Converting archive\\other-Skyline_B00111.csv to archive\\other-Skyline_B00111.pkl\n",
      "Reading archive\\Uber-Jan-Feb-FOIL.csv\n",
      "Converting archive\\Uber-Jan-Feb-FOIL.csv to archive\\Uber-Jan-Feb-FOIL.pkl\n",
      "Reading archive\\uber-raw-data-apr14.csv\n",
      "Converting archive\\uber-raw-data-apr14.csv to archive\\uber-raw-data-apr14.pkl\n",
      "Reading archive\\uber-raw-data-aug14.csv\n",
      "Converting archive\\uber-raw-data-aug14.csv to archive\\uber-raw-data-aug14.pkl\n",
      "Reading archive\\uber-raw-data-janjune-15.csv\n",
      "Converting archive\\uber-raw-data-janjune-15.csv to archive\\uber-raw-data-janjune-15.pkl\n",
      "Reading archive\\uber-raw-data-jul14.csv\n",
      "Converting archive\\uber-raw-data-jul14.csv to archive\\uber-raw-data-jul14.pkl\n",
      "Reading archive\\uber-raw-data-jun14.csv\n",
      "Converting archive\\uber-raw-data-jun14.csv to archive\\uber-raw-data-jun14.pkl\n",
      "Reading archive\\uber-raw-data-may14.csv\n",
      "Converting archive\\uber-raw-data-may14.csv to archive\\uber-raw-data-may14.pkl\n",
      "Reading archive\\uber-raw-data-sep14.csv\n",
      "Converting archive\\uber-raw-data-sep14.csv to archive\\uber-raw-data-sep14.pkl\n",
      "Converting T-drive dataset: txt -> csv -> pkl\n",
      "Converting to taxi_log_2008_by_id.pkl\n"
     ]
    }
   ],
   "source": [
    "print(\"Converting Uber dataset: csv -> pkl\")\n",
    "uber_conv()\n",
    "\n",
    "print(\"Converting T-drive dataset: txt -> csv -> pkl\")\n",
    "tdrive_conv()"
   ]
  }
 ],
 "metadata": {
  "kernelspec": {
   "display_name": "Python 3 (ipykernel)",
   "language": "python",
   "name": "python3"
  },
  "language_info": {
   "codemirror_mode": {
    "name": "ipython",
    "version": 3
   },
   "file_extension": ".py",
   "mimetype": "text/x-python",
   "name": "python",
   "nbconvert_exporter": "python",
   "pygments_lexer": "ipython3",
   "version": "3.9.19"
  }
 },
 "nbformat": 4,
 "nbformat_minor": 5
}
