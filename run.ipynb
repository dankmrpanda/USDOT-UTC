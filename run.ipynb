{
 "cells": [
  {
   "cell_type": "code",
   "execution_count": null,
   "id": "b1fc404c-1a92-43da-a7b3-ff4ff5828037",
   "metadata": {},
   "outputs": [],
   "source": [
    "import csv\n",
    "import pandas as pd\n",
    "import os"
   ]
  },
  {
   "cell_type": "code",
   "execution_count": null,
   "id": "11697ac6-6018-48fe-a933-a83f73d9537b",
   "metadata": {},
   "outputs": [],
   "source": [
    "directory = 'pkl'\n",
    "\n",
    "for filename in os.listdir(directory):\n",
    "    if filename.endswith('.pkl') and \"uber-raw-data\" in filename:\n",
    "        file_path = os.path.join(directory, filename)\n",
    "\n",
    "        df = pd.read_pickle(file_path)\n",
    "        \n",
    "        print(f\"File: {filename}\")\n",
    "        print(f\"Columns: {df.columns.tolist()}\\n\")\n",
    "        try:\n",
    "            print(f\"Max Lon: {df['Lon'].max()}\")\n",
    "            print(f\"Max Lon: {df['Lon'].min()}\")\n",
    "            print(f\"Max Lat: {df['Lat'].max()}\")\n",
    "            print(f\"Max Lat: {df['Lat'].min()}\")\n",
    "        except Exception as e:\n",
    "            print(\"Does not have column Lon or Lat\")"
   ]
  }
 ],
 "metadata": {
  "kernelspec": {
   "display_name": "Python 3 (ipykernel)",
   "language": "python",
   "name": "python3"
  },
  "language_info": {
   "codemirror_mode": {
    "name": "ipython",
    "version": 3
   },
   "file_extension": ".py",
   "mimetype": "text/x-python",
   "name": "python",
   "nbconvert_exporter": "python",
   "pygments_lexer": "ipython3",
   "version": "3.12.3"
  }
 },
 "nbformat": 4,
 "nbformat_minor": 5
}
