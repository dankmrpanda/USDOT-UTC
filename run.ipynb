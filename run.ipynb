{
 "cells": [
  {
   "cell_type": "code",
   "execution_count": 1,
   "id": "b1fc404c-1a92-43da-a7b3-ff4ff5828037",
   "metadata": {},
   "outputs": [],
   "source": [
    "import pandas as pd\n",
    "import numpy as np"
   ]
  },
  {
   "cell_type": "code",
   "execution_count": 2,
   "id": "e2a39a61-c802-48fc-a18f-2747bd014701",
   "metadata": {},
   "outputs": [
    {
     "data": {
      "text/html": [
       "<div>\n",
       "<style scoped>\n",
       "    .dataframe tbody tr th:only-of-type {\n",
       "        vertical-align: middle;\n",
       "    }\n",
       "\n",
       "    .dataframe tbody tr th {\n",
       "        vertical-align: top;\n",
       "    }\n",
       "\n",
       "    .dataframe thead th {\n",
       "        text-align: right;\n",
       "    }\n",
       "</style>\n",
       "<table border=\"1\" class=\"dataframe\">\n",
       "  <thead>\n",
       "    <tr style=\"text-align: right;\">\n",
       "      <th></th>\n",
       "      <th>Date/Time</th>\n",
       "      <th>Lat</th>\n",
       "      <th>Lon</th>\n",
       "      <th>Base</th>\n",
       "    </tr>\n",
       "  </thead>\n",
       "  <tbody>\n",
       "    <tr>\n",
       "      <th>0</th>\n",
       "      <td>4/1/2014 0:11:00</td>\n",
       "      <td>40.7690</td>\n",
       "      <td>-73.9549</td>\n",
       "      <td>B02512</td>\n",
       "    </tr>\n",
       "    <tr>\n",
       "      <th>1</th>\n",
       "      <td>4/1/2014 0:17:00</td>\n",
       "      <td>40.7267</td>\n",
       "      <td>-74.0345</td>\n",
       "      <td>B02512</td>\n",
       "    </tr>\n",
       "    <tr>\n",
       "      <th>2</th>\n",
       "      <td>4/1/2014 0:21:00</td>\n",
       "      <td>40.7316</td>\n",
       "      <td>-73.9873</td>\n",
       "      <td>B02512</td>\n",
       "    </tr>\n",
       "    <tr>\n",
       "      <th>3</th>\n",
       "      <td>4/1/2014 0:28:00</td>\n",
       "      <td>40.7588</td>\n",
       "      <td>-73.9776</td>\n",
       "      <td>B02512</td>\n",
       "    </tr>\n",
       "    <tr>\n",
       "      <th>4</th>\n",
       "      <td>4/1/2014 0:33:00</td>\n",
       "      <td>40.7594</td>\n",
       "      <td>-73.9722</td>\n",
       "      <td>B02512</td>\n",
       "    </tr>\n",
       "    <tr>\n",
       "      <th>...</th>\n",
       "      <td>...</td>\n",
       "      <td>...</td>\n",
       "      <td>...</td>\n",
       "      <td>...</td>\n",
       "    </tr>\n",
       "    <tr>\n",
       "      <th>4534322</th>\n",
       "      <td>9/30/2014 22:57:00</td>\n",
       "      <td>40.7668</td>\n",
       "      <td>-73.9845</td>\n",
       "      <td>B02764</td>\n",
       "    </tr>\n",
       "    <tr>\n",
       "      <th>4534323</th>\n",
       "      <td>9/30/2014 22:57:00</td>\n",
       "      <td>40.6911</td>\n",
       "      <td>-74.1773</td>\n",
       "      <td>B02764</td>\n",
       "    </tr>\n",
       "    <tr>\n",
       "      <th>4534324</th>\n",
       "      <td>9/30/2014 22:58:00</td>\n",
       "      <td>40.8519</td>\n",
       "      <td>-73.9319</td>\n",
       "      <td>B02764</td>\n",
       "    </tr>\n",
       "    <tr>\n",
       "      <th>4534325</th>\n",
       "      <td>9/30/2014 22:58:00</td>\n",
       "      <td>40.7081</td>\n",
       "      <td>-74.0066</td>\n",
       "      <td>B02764</td>\n",
       "    </tr>\n",
       "    <tr>\n",
       "      <th>4534326</th>\n",
       "      <td>9/30/2014 22:58:00</td>\n",
       "      <td>40.7140</td>\n",
       "      <td>-73.9496</td>\n",
       "      <td>B02764</td>\n",
       "    </tr>\n",
       "  </tbody>\n",
       "</table>\n",
       "<p>4534327 rows × 4 columns</p>\n",
       "</div>"
      ],
      "text/plain": [
       "                  Date/Time      Lat      Lon    Base\n",
       "0          4/1/2014 0:11:00  40.7690 -73.9549  B02512\n",
       "1          4/1/2014 0:17:00  40.7267 -74.0345  B02512\n",
       "2          4/1/2014 0:21:00  40.7316 -73.9873  B02512\n",
       "3          4/1/2014 0:28:00  40.7588 -73.9776  B02512\n",
       "4          4/1/2014 0:33:00  40.7594 -73.9722  B02512\n",
       "...                     ...      ...      ...     ...\n",
       "4534322  9/30/2014 22:57:00  40.7668 -73.9845  B02764\n",
       "4534323  9/30/2014 22:57:00  40.6911 -74.1773  B02764\n",
       "4534324  9/30/2014 22:58:00  40.8519 -73.9319  B02764\n",
       "4534325  9/30/2014 22:58:00  40.7081 -74.0066  B02764\n",
       "4534326  9/30/2014 22:58:00  40.7140 -73.9496  B02764\n",
       "\n",
       "[4534327 rows x 4 columns]"
      ]
     },
     "execution_count": 2,
     "metadata": {},
     "output_type": "execute_result"
    }
   ],
   "source": [
    "file = \"pkl/uber-raw-data-combined.csv.pkl\"\n",
    "df = pd.read_pickle(file)\n",
    "df"
   ]
  },
  {
   "cell_type": "code",
   "execution_count": 3,
   "id": "11697ac6-6018-48fe-a933-a83f73d9537b",
   "metadata": {},
   "outputs": [],
   "source": [
    "def time_sampling(start, end):\n",
    "    df[\"Date/Time\"] = pd.to_datetime(df[\"Date/Time\"])\n",
    "    filter_df = df[(df[\"Date/Time\"] >= start) & (df[\"Date/Time\"] <= end)]\n",
    "    sample_df = filter_df.sort_values(by=\"Date/Time\")\n",
    "    return sample_df"
   ]
  },
  {
   "cell_type": "markdown",
   "id": "cb4f1acf-a8d8-4a0a-93af-ccda12d2f5e2",
   "metadata": {},
   "source": [
    "### Inputs go by:\n",
    "\"Year-Month-Day Hour:Minute:Second\"\n",
    "\n",
    "*time is in 24 hour clock\n",
    "\n",
    "the rows are out of order because original csv was sorted by base values, not time."
   ]
  },
  {
   "cell_type": "code",
   "execution_count": 4,
   "id": "fbf6ea18-01b8-4c09-8843-7f0b3242f6e8",
   "metadata": {},
   "outputs": [],
   "source": [
    "#time_sampling(\"2014-04-01 00:00:00\", \"2014-04-29 00:00:00\")"
   ]
  },
  {
   "cell_type": "code",
   "execution_count": 5,
   "id": "0f0d9ffe-c263-476c-9030-10fc4d94b5a2",
   "metadata": {},
   "outputs": [
    {
     "name": "stdout",
     "output_type": "stream",
     "text": [
      "Max: Date/Time    2014-09-30 22:59:00\n",
      "Lat                      42.1166\n",
      "Lon                     -72.0666\n",
      "Base                      B02764\n",
      "dtype: object\n",
      "Min: Date/Time    2014-04-01 00:00:00\n",
      "Lat                      39.6569\n",
      "Lon                      -74.929\n",
      "Base                      B02512\n",
      "dtype: object\n"
     ]
    }
   ],
   "source": [
    "if (df[\"Date/Time\"].dtypes != np.datetime64):\n",
    "    df[\"Date/Time\"] = pd.to_datetime(df[\"Date/Time\"])\n",
    "print(f\"Max: {df.max()}\")\n",
    "print(f\"Min: {df.min()}\")\n",
    "lat = df[\"Lat\"].sort_values().unique()\n",
    "lon = df[\"Lon\"].sort_values().unique()\n",
    "time = df[\"Date/Time\"].sort_values().unique()"
   ]
  },
  {
   "cell_type": "code",
   "execution_count": 21,
   "id": "11a97edc-f315-4643-afe5-d530b453e7f5",
   "metadata": {},
   "outputs": [],
   "source": [
    "def cluster(df, bin):\n",
    "    tf = pd.cut(df, bins=bin)\n",
    "    count = tf.value_counts().sort_index() #datatype = pandas series\n",
    "    print(count) #.index[0] for range, .iloc[0] for value"
   ]
  },
  {
   "cell_type": "code",
   "execution_count": 25,
   "id": "0c656653-c61c-467a-9836-9bf7bf295f9c",
   "metadata": {},
   "outputs": [
    {
     "name": "stdout",
     "output_type": "stream",
     "text": [
      "(2014-03-31 19:36:32.460000, 2014-04-01 04:23:27.540000]    193\n",
      "(2014-04-01 04:23:27.540000, 2014-04-01 08:46:55.080000]    261\n",
      "(2014-04-01 08:46:55.080000, 2014-04-01 13:10:22.620000]    264\n",
      "(2014-04-01 13:10:22.620000, 2014-04-01 17:33:50.160000]    263\n",
      "(2014-04-01 17:33:50.160000, 2014-04-01 21:57:17.700000]    246\n",
      "                                                           ... \n",
      "(2014-09-30 01:01:42.300000, 2014-09-30 05:25:09.840000]    246\n",
      "(2014-09-30 05:25:09.840000, 2014-09-30 09:48:37.380000]    263\n",
      "(2014-09-30 09:48:37.380000, 2014-09-30 14:12:04.920000]    264\n",
      "(2014-09-30 14:12:04.920000, 2014-09-30 18:35:32.460000]    263\n",
      "(2014-09-30 18:35:32.460000, 2014-09-30 22:59:00]           264\n",
      "Name: count, Length: 1000, dtype: int64\n"
     ]
    }
   ],
   "source": [
    "cluster(time, 1000)"
   ]
  },
  {
   "cell_type": "code",
   "execution_count": 28,
   "id": "15dd9c42-e0a9-410b-a162-87d3af8e8579",
   "metadata": {},
   "outputs": [
    {
     "name": "stdout",
     "output_type": "stream",
     "text": [
      "(39.654, 39.681]    2\n",
      "(39.681, 39.706]    0\n",
      "(39.706, 39.731]    1\n",
      "(39.731, 39.755]    0\n",
      "(39.755, 39.78]     0\n",
      "                   ..\n",
      "(41.994, 42.018]    0\n",
      "(42.018, 42.043]    0\n",
      "(42.043, 42.067]    0\n",
      "(42.067, 42.092]    0\n",
      "(42.092, 42.117]    1\n",
      "Name: count, Length: 100, dtype: int64\n"
     ]
    }
   ],
   "source": [
    "cluster(lat, 100)"
   ]
  },
  {
   "cell_type": "code",
   "execution_count": 29,
   "id": "69e14b76-86e9-4b2b-bb70-d25bc2046c92",
   "metadata": {},
   "outputs": [
    {
     "name": "stdout",
     "output_type": "stream",
     "text": [
      "(-74.932, -74.9]      1\n",
      "(-74.9, -74.872]      0\n",
      "(-74.872, -74.843]    2\n",
      "(-74.843, -74.815]    3\n",
      "(-74.815, -74.786]    0\n",
      "                     ..\n",
      "(-72.21, -72.181]     0\n",
      "(-72.181, -72.152]    1\n",
      "(-72.152, -72.124]    0\n",
      "(-72.124, -72.095]    0\n",
      "(-72.095, -72.067]    1\n",
      "Name: count, Length: 100, dtype: int64\n"
     ]
    }
   ],
   "source": [
    "cluster(lon, 100)"
   ]
  },
  {
   "cell_type": "code",
   "execution_count": null,
   "id": "008e253d-1a93-412b-85d8-284a2773c385",
   "metadata": {},
   "outputs": [],
   "source": []
  }
 ],
 "metadata": {
  "kernelspec": {
   "display_name": "Python 3 (ipykernel)",
   "language": "python",
   "name": "python3"
  },
  "language_info": {
   "codemirror_mode": {
    "name": "ipython",
    "version": 3
   },
   "file_extension": ".py",
   "mimetype": "text/x-python",
   "name": "python",
   "nbconvert_exporter": "python",
   "pygments_lexer": "ipython3",
   "version": "3.9.19"
  }
 },
 "nbformat": 4,
 "nbformat_minor": 5
}
